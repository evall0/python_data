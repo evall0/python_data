{
 "cells": [
  {
   "cell_type": "markdown",
   "metadata": {},
   "source": [
    "## 함수"
   ]
  },
  {
   "cell_type": "markdown",
   "metadata": {},
   "source": [
    "* 특정 기능을 수행하는 일련의 명령들을 묶어서 하나의 함수로 정의할 때 사용\n",
    "* 함수는 인수(argument, parameter)가 있는 함수가 있음\n",
    "* 함수는 인수가 **없는** 함수도 있음\n",
    "* 함수마다 반환값(return)이 있는 함수와 반환값이 없는 함수가 있음\n",
    "* 함수의 이름은 동사형태로 적음"
   ]
  },
  {
   "cell_type": "markdown",
   "metadata": {},
   "source": [
    "### 1. 함수 정의하기"
   ]
  },
  {
   "cell_type": "markdown",
   "metadata": {},
   "source": [
    "#### 인자값(parameter), 반환 값(Return) 없는 함수"
   ]
  },
  {
   "cell_type": "markdown",
   "metadata": {
    "ExecuteTime": {
     "end_time": "2019-04-15T08:25:14.357089Z",
     "start_time": "2019-04-15T08:25:14.352788Z"
    },
    "scrolled": true
   },
   "source": [
    "#### 인자가 없으면서 반환값도 없는 함수 정의\n",
    "def display():\n",
    "    \n",
    "    name = input('이름을 입력하세요! :')\n",
    "    \n",
    "    print(\"Hello\", name)\n",
    "    \n",
    "display()"
   ]
  },
  {
   "cell_type": "code",
   "execution_count": null,
   "metadata": {},
   "outputs": [],
   "source": []
  },
  {
   "cell_type": "markdown",
   "metadata": {},
   "source": [
    "#### 인자 값(parameter)은 있으나, 반환 값(Return)은 없는 함수"
   ]
  },
  {
   "cell_type": "markdown",
   "metadata": {},
   "source": [
    "def display2(name):\n",
    "\n",
    "    print('Hello', name)\n",
    "    \n",
    "display2(input('이름을 입력하세요! : '))"
   ]
  },
  {
   "cell_type": "code",
   "execution_count": null,
   "metadata": {},
   "outputs": [],
   "source": []
  },
  {
   "cell_type": "markdown",
   "metadata": {},
   "source": [
    "#### 인자 값(parameter), 반환 값(Return) 모두 있는 함수"
   ]
  },
  {
   "cell_type": "markdown",
   "metadata": {},
   "source": [
    "def sum(a, b):\n",
    "\n",
    "    return a + b\n",
    "\n",
    "sum(3, 5)"
   ]
  },
  {
   "cell_type": "code",
   "execution_count": null,
   "metadata": {},
   "outputs": [],
   "source": []
  },
  {
   "cell_type": "markdown",
   "metadata": {},
   "source": [
    "#### 반환 값(Return)을 표기하지 않는 함수의 반환 값(Return) : None"
   ]
  },
  {
   "cell_type": "markdown",
   "metadata": {},
   "source": [
    "def no_return():\n",
    "\n",
    "    print('안녕하세요')\n",
    "    \n",
    "    return\n",
    "\n",
    "print(no_return())"
   ]
  },
  {
   "cell_type": "code",
   "execution_count": null,
   "metadata": {},
   "outputs": [],
   "source": []
  },
  {
   "cell_type": "markdown",
   "metadata": {},
   "source": [
    "#### 반환값이 있는 함수 정의\n",
    "def display2():\n",
    "   \n",
    "    return \"Hello\"\n",
    "\n",
    "#### 인자가 있으면 반환값이 있는 함수 정의\n",
    "def display3(message):\n",
    "    \n",
    "    return message + \", World\""
   ]
  },
  {
   "cell_type": "code",
   "execution_count": null,
   "metadata": {},
   "outputs": [],
   "source": []
  },
  {
   "cell_type": "markdown",
   "metadata": {
    "ExecuteTime": {
     "end_time": "2019-04-15T08:26:06.805020Z",
     "start_time": "2019-04-15T08:26:06.801394Z"
    },
    "scrolled": true
   },
   "source": [
    "#### 함수호출\n",
    "display()"
   ]
  },
  {
   "cell_type": "code",
   "execution_count": null,
   "metadata": {},
   "outputs": [],
   "source": []
  },
  {
   "cell_type": "markdown",
   "metadata": {
    "ExecuteTime": {
     "end_time": "2019-04-15T08:26:15.043295Z",
     "start_time": "2019-04-15T08:26:15.038687Z"
    },
    "scrolled": true
   },
   "source": [
    "display2()"
   ]
  },
  {
   "cell_type": "code",
   "execution_count": null,
   "metadata": {},
   "outputs": [],
   "source": []
  },
  {
   "cell_type": "markdown",
   "metadata": {
    "ExecuteTime": {
     "end_time": "2019-04-15T08:26:24.693992Z",
     "start_time": "2019-04-15T08:26:24.688753Z"
    },
    "scrolled": true
   },
   "source": [
    "display3(display2())"
   ]
  },
  {
   "cell_type": "code",
   "execution_count": null,
   "metadata": {},
   "outputs": [],
   "source": []
  },
  {
   "cell_type": "markdown",
   "metadata": {},
   "source": [
    "### 2. 기본 인자 값 활용하기"
   ]
  },
  {
   "cell_type": "markdown",
   "metadata": {},
   "source": [
    "#### 다양한 형태의 인자를 받는 range() 함수"
   ]
  },
  {
   "cell_type": "markdown",
   "metadata": {},
   "source": [
    "#### 1개 인자값\n",
    "list(range(10))"
   ]
  },
  {
   "cell_type": "code",
   "execution_count": null,
   "metadata": {},
   "outputs": [],
   "source": []
  },
  {
   "cell_type": "markdown",
   "metadata": {},
   "source": [
    "#### 2개 인자값\n",
    "list(range(5, 10))"
   ]
  },
  {
   "cell_type": "code",
   "execution_count": null,
   "metadata": {},
   "outputs": [],
   "source": []
  },
  {
   "cell_type": "markdown",
   "metadata": {},
   "source": [
    "#### 3개 인자값\n",
    "list(range(0, 10, 2))"
   ]
  },
  {
   "cell_type": "code",
   "execution_count": null,
   "metadata": {},
   "outputs": [],
   "source": []
  },
  {
   "cell_type": "markdown",
   "metadata": {},
   "source": [
    "def daily_sleeping_hours(hours):\n",
    "\n",
    "    return hours"
   ]
  },
  {
   "cell_type": "code",
   "execution_count": null,
   "metadata": {},
   "outputs": [],
   "source": []
  },
  {
   "cell_type": "markdown",
   "metadata": {},
   "source": [
    "daily_sleeping_hours(6)"
   ]
  },
  {
   "cell_type": "code",
   "execution_count": null,
   "metadata": {},
   "outputs": [],
   "source": []
  },
  {
   "cell_type": "markdown",
   "metadata": {},
   "source": [
    "daily_sleeping_hours(10)"
   ]
  },
  {
   "cell_type": "code",
   "execution_count": null,
   "metadata": {},
   "outputs": [],
   "source": []
  },
  {
   "cell_type": "markdown",
   "metadata": {},
   "source": [
    "- 인자 값을 넣지 않으면 에러가 발생한다"
   ]
  },
  {
   "cell_type": "markdown",
   "metadata": {},
   "source": [
    "daily_sleeping_hours()"
   ]
  },
  {
   "cell_type": "code",
   "execution_count": null,
   "metadata": {},
   "outputs": [],
   "source": []
  },
  {
   "cell_type": "markdown",
   "metadata": {},
   "source": [
    "def daily_sleeping_hours(hours=7):\n",
    "\n",
    "    return hours"
   ]
  },
  {
   "cell_type": "code",
   "execution_count": null,
   "metadata": {},
   "outputs": [],
   "source": []
  },
  {
   "cell_type": "markdown",
   "metadata": {},
   "source": [
    "daily_sleeping_hours()"
   ]
  },
  {
   "cell_type": "code",
   "execution_count": null,
   "metadata": {},
   "outputs": [],
   "source": []
  },
  {
   "cell_type": "markdown",
   "metadata": {},
   "source": [
    "- 좀 더 세련된 방법"
   ]
  },
  {
   "cell_type": "markdown",
   "metadata": {},
   "source": [
    "def daily_woring_hours(hours=None):\n",
    "\n",
    "    if hours == None:\n",
    "    \n",
    "        print('인자 값 세팅을 잊으셨군요')\n",
    "\n",
    "    return hours"
   ]
  },
  {
   "cell_type": "code",
   "execution_count": null,
   "metadata": {},
   "outputs": [],
   "source": []
  },
  {
   "cell_type": "markdown",
   "metadata": {},
   "source": [
    "daily_woring_hours()"
   ]
  },
  {
   "cell_type": "code",
   "execution_count": null,
   "metadata": {},
   "outputs": [],
   "source": []
  },
  {
   "cell_type": "markdown",
   "metadata": {},
   "source": [
    "### 3. 여러 개의 인자 값 및 키워드 인자 활용하기"
   ]
  },
  {
   "cell_type": "markdown",
   "metadata": {},
   "source": [
    "def introduce_my_car(manufacturer, seats=4, type='sedan'):\n",
    "\n",
    "    print('내 차는', manufacturer, '에서 제작된', seats, '인승', type, '이다.')"
   ]
  },
  {
   "cell_type": "code",
   "execution_count": null,
   "metadata": {},
   "outputs": [],
   "source": []
  },
  {
   "cell_type": "markdown",
   "metadata": {},
   "source": [
    "#### 위치 인자값 1개\n",
    "\n",
    "introduce_my_car('현대')"
   ]
  },
  {
   "cell_type": "code",
   "execution_count": null,
   "metadata": {},
   "outputs": [],
   "source": []
  },
  {
   "cell_type": "markdown",
   "metadata": {},
   "source": [
    "#### 키워드 인자 값 1개\n",
    "\n",
    "introduce_my_car(manufacturer='기아')"
   ]
  },
  {
   "cell_type": "code",
   "execution_count": null,
   "metadata": {},
   "outputs": [],
   "source": []
  },
  {
   "cell_type": "markdown",
   "metadata": {},
   "source": [
    "#### 키워드 인자 값 2개\n",
    "\n",
    "introduce_my_car(manufacturer='기아', type='SUV')"
   ]
  },
  {
   "cell_type": "code",
   "execution_count": null,
   "metadata": {},
   "outputs": [],
   "source": []
  },
  {
   "cell_type": "markdown",
   "metadata": {},
   "source": [
    "#### 순서 바뀐 키워드 인자 값 2개, 순서가 바뀐 경우는 반드시 키워드 인자 값 사용!\n",
    "\n",
    "introduce_my_car(type='SUV', manufacturer='기아')"
   ]
  },
  {
   "cell_type": "code",
   "execution_count": null,
   "metadata": {},
   "outputs": [],
   "source": []
  },
  {
   "cell_type": "markdown",
   "metadata": {},
   "source": [
    "#### 순서를 지킨 위치 인자 값 3개, 순서가 같다면 반드시 키워드 인자 값 사용!\n",
    "introduce_my_car('아우디', 2, '스포츠카')"
   ]
  },
  {
   "cell_type": "code",
   "execution_count": null,
   "metadata": {},
   "outputs": [],
   "source": []
  },
  {
   "cell_type": "markdown",
   "metadata": {},
   "source": [
    "#### 위치 인자 값 1개, 키워드 인자값 1개, 혼용으로 사용\n",
    "introduce_my_car('아우디', seats=2)"
   ]
  },
  {
   "cell_type": "code",
   "execution_count": null,
   "metadata": {},
   "outputs": [],
   "source": []
  },
  {
   "cell_type": "markdown",
   "metadata": {},
   "source": [
    "#### 잘못된 사례\n",
    "- 필수 인자 값 누락\n",
    "- 기본 값이 없는 필수 인자 값은 반드시 값이 대입되어야 한다."
   ]
  },
  {
   "cell_type": "markdown",
   "metadata": {},
   "source": [
    "introduce_my_car()"
   ]
  },
  {
   "cell_type": "code",
   "execution_count": null,
   "metadata": {},
   "outputs": [],
   "source": []
  },
  {
   "cell_type": "markdown",
   "metadata": {},
   "source": [
    "####  키워드 인자 값 뒤에 키워드 없는 인자 값 사용 불가\n",
    "- 키워드 인자 값 뒤에 위치 인자 값은 넣을 수 없다."
   ]
  },
  {
   "cell_type": "markdown",
   "metadata": {},
   "source": [
    "introduce_my_car(manufacturer='현대', 2')"
   ]
  },
  {
   "cell_type": "code",
   "execution_count": null,
   "metadata": {},
   "outputs": [],
   "source": []
  },
  {
   "cell_type": "markdown",
   "metadata": {},
   "source": [
    "#### 동일 매개 변수에 중복 인자 값 대입\n",
    "- 1개를 대입해야 하는 상황에서, 중복되는 데이터를 넣는 경우\n",
    "- 위치 인자 값과, 키워드 인자 값을 동시에 넣은 경우"
   ]
  },
  {
   "cell_type": "markdown",
   "metadata": {},
   "source": [
    "introduce_my_car('기아', manufacturer='현대')"
   ]
  },
  {
   "cell_type": "code",
   "execution_count": null,
   "metadata": {},
   "outputs": [],
   "source": []
  },
  {
   "cell_type": "markdown",
   "metadata": {},
   "source": [
    "#### 알지 못하는 키워드(매개 변수명 존재하지 않음)\n",
    "- 함수 선언지 입력하지 않는 인자를 입력시에 에러 발생"
   ]
  },
  {
   "cell_type": "markdown",
   "metadata": {},
   "source": [
    "introduce_my_car(color='회색')"
   ]
  },
  {
   "cell_type": "code",
   "execution_count": null,
   "metadata": {},
   "outputs": [],
   "source": []
  },
  {
   "cell_type": "markdown",
   "metadata": {},
   "source": [
    "### 가변 인자 리스트 활용하기\n",
    "- 하나의 변수에 여러 값이 들어가는 경우\n",
    "- 튜플형, 사전형 데이터를 인자 값으로 넣는 경우 주로 사용된다"
   ]
  },
  {
   "cell_type": "markdown",
   "metadata": {},
   "source": [
    "def introduce_your_family(name, *family_names, **family_info):\n",
    "    \n",
    "    print('제 이름은', name, '입니다. ')\n",
    "    \n",
    "    print('제 가족들의 이름은 아래와 같아요. ')\n",
    "    \n",
    "    for name in family_names:\n",
    "    \n",
    "        print(name)\n",
    "    \n",
    "    print(\"-\" * 40)\n",
    "    \n",
    "    for key in family_info.keys():\n",
    "    \n",
    "        print(key, \":\", family_info[key])"
   ]
  },
  {
   "cell_type": "markdown",
   "metadata": {},
   "source": [
    "introduce_your_family('Chris', 'Jihee', 'Anna', 'Shinhoo', 집='용인')"
   ]
  },
  {
   "cell_type": "code",
   "execution_count": null,
   "metadata": {},
   "outputs": [],
   "source": []
  },
  {
   "cell_type": "code",
   "execution_count": null,
   "metadata": {},
   "outputs": [],
   "source": []
  },
  {
   "cell_type": "markdown",
   "metadata": {},
   "source": [
    "- 인자 값의 개수나 키워드 없이도 나열한 값들이 알아서 각 변수에 패킹되어 대입된다.\n",
    "- 일반적으로, 이런 가변 인자 값들은 함수 선언 시 인자 값 중 가장 뒤쪽에 배치 시킨다.\n",
    "- 가변 인자를 앞에 배치하고 싶으면, 키워드 인자값으로만 전달해야한다."
   ]
  },
  {
   "cell_type": "markdown",
   "metadata": {},
   "source": [
    "def concat(*args, sep=\"/\"):\n",
    "\n",
    "    return sep.join(args)"
   ]
  },
  {
   "cell_type": "code",
   "execution_count": null,
   "metadata": {},
   "outputs": [],
   "source": []
  },
  {
   "cell_type": "markdown",
   "metadata": {},
   "source": [
    "concat('earth', 'mars', 'venus')"
   ]
  },
  {
   "cell_type": "code",
   "execution_count": null,
   "metadata": {},
   "outputs": [],
   "source": []
  },
  {
   "cell_type": "markdown",
   "metadata": {},
   "source": [
    "#### 뒤에 인자는 키워드 인자 값만 대입되야 한다.\n",
    "concat('earth', 'mars', 'venus', sep='.')"
   ]
  },
  {
   "cell_type": "code",
   "execution_count": null,
   "metadata": {},
   "outputs": [],
   "source": []
  },
  {
   "cell_type": "markdown",
   "metadata": {},
   "source": [
    "### 문서화를 위한 문자열 활용하기(Docstring)"
   ]
  },
  {
   "cell_type": "markdown",
   "metadata": {},
   "source": [
    "def my_function():\n",
    "\n",
    "    \"\"\"아무것도 하지 않지만, 문서만 기술한 함수\n",
    "    \n",
    "    본 함수는 docstring을 설명하기 위한 함수입니다.\n",
    "   \n",
    "    \"\"\"\n",
    "    \n",
    "    pass"
   ]
  },
  {
   "cell_type": "markdown",
   "metadata": {},
   "source": [
    "print(my_function.__doc__)"
   ]
  },
  {
   "cell_type": "code",
   "execution_count": null,
   "metadata": {},
   "outputs": [],
   "source": []
  }
 ],
 "metadata": {
  "kernelspec": {
   "display_name": "Python 3",
   "language": "python",
   "name": "python3"
  },
  "language_info": {
   "codemirror_mode": {
    "name": "ipython",
    "version": 3
   },
   "file_extension": ".py",
   "mimetype": "text/x-python",
   "name": "python",
   "nbconvert_exporter": "python",
   "pygments_lexer": "ipython3",
   "version": "3.8.3"
  }
 },
 "nbformat": 4,
 "nbformat_minor": 2
}
